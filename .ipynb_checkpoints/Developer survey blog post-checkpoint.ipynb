{
 "cells": [
  {
   "cell_type": "markdown",
   "metadata": {},
   "source": [
    "# Business Understanding"
   ]
  },
  {
   "cell_type": "markdown",
   "metadata": {},
   "source": [
    "In this notebook we will find out how the software engineering community sees DevOps.\n",
    "For this we will use the Stack Overflow 2020 Developer survey. "
   ]
  },
  {
   "cell_type": "markdown",
   "metadata": {},
   "source": [
    "We will analyze the following questions:\n",
    "- Do developers only value DevOps once they have it?\n",
    "- How does having DevOps impact job satisfaction?\n",
    "- What is the distribution of sentiment towards DevOps in companies of different sizes?"
   ]
  },
  {
   "cell_type": "markdown",
   "metadata": {},
   "source": [
    "# Data Understanding"
   ]
  },
  {
   "cell_type": "markdown",
   "metadata": {},
   "source": [
    "The data we use was taken from the [Stack Overflow 2020 Developer Survey](https://insights.stackoverflow.com/survey)."
   ]
  },
  {
   "cell_type": "markdown",
   "metadata": {},
   "source": [
    "## Import libraries"
   ]
  },
  {
   "cell_type": "code",
   "execution_count": 1,
   "metadata": {},
   "outputs": [],
   "source": [
    "import pandas as pd"
   ]
  },
  {
   "cell_type": "markdown",
   "metadata": {},
   "source": [
    "## Gather data"
   ]
  },
  {
   "cell_type": "markdown",
   "metadata": {},
   "source": [
    "We read the data from the downloaded .zip file."
   ]
  },
  {
   "cell_type": "code",
   "execution_count": 2,
   "metadata": {},
   "outputs": [],
   "source": [
    "df = pd.read_csv('survey_results_public.csv.zip')"
   ]
  },
  {
   "cell_type": "markdown",
   "metadata": {},
   "source": [
    "First we review some basic properties of the data like shape, datatypes and statistical metrics"
   ]
  },
  {
   "cell_type": "markdown",
   "metadata": {},
   "source": [
    "### Shape"
   ]
  },
  {
   "cell_type": "code",
   "execution_count": 3,
   "metadata": {},
   "outputs": [
    {
     "data": {
      "text/plain": [
       "(64461, 61)"
      ]
     },
     "execution_count": 3,
     "metadata": {},
     "output_type": "execute_result"
    }
   ],
   "source": [
    "df.shape"
   ]
  },
  {
   "cell_type": "markdown",
   "metadata": {},
   "source": [
    "### Data Types"
   ]
  },
  {
   "cell_type": "code",
   "execution_count": 4,
   "metadata": {},
   "outputs": [
    {
     "data": {
      "text/plain": [
       "Respondent              int64\n",
       "MainBranch             object\n",
       "Hobbyist               object\n",
       "Age                   float64\n",
       "Age1stCode             object\n",
       "                       ...   \n",
       "WebframeWorkedWith     object\n",
       "WelcomeChange          object\n",
       "WorkWeekHrs           float64\n",
       "YearsCode              object\n",
       "YearsCodePro           object\n",
       "Length: 61, dtype: object"
      ]
     },
     "execution_count": 4,
     "metadata": {},
     "output_type": "execute_result"
    }
   ],
   "source": [
    "df.dtypes"
   ]
  },
  {
   "cell_type": "code",
   "execution_count": 5,
   "metadata": {},
   "outputs": [
    {
     "data": {
      "text/html": [
       "<div>\n",
       "<style scoped>\n",
       "    .dataframe tbody tr th:only-of-type {\n",
       "        vertical-align: middle;\n",
       "    }\n",
       "\n",
       "    .dataframe tbody tr th {\n",
       "        vertical-align: top;\n",
       "    }\n",
       "\n",
       "    .dataframe thead th {\n",
       "        text-align: right;\n",
       "    }\n",
       "</style>\n",
       "<table border=\"1\" class=\"dataframe\">\n",
       "  <thead>\n",
       "    <tr style=\"text-align: right;\">\n",
       "      <th></th>\n",
       "      <th>Respondent</th>\n",
       "      <th>MainBranch</th>\n",
       "      <th>Hobbyist</th>\n",
       "      <th>Age</th>\n",
       "      <th>Age1stCode</th>\n",
       "      <th>CompFreq</th>\n",
       "      <th>CompTotal</th>\n",
       "      <th>ConvertedComp</th>\n",
       "      <th>Country</th>\n",
       "      <th>CurrencyDesc</th>\n",
       "      <th>...</th>\n",
       "      <th>SurveyEase</th>\n",
       "      <th>SurveyLength</th>\n",
       "      <th>Trans</th>\n",
       "      <th>UndergradMajor</th>\n",
       "      <th>WebframeDesireNextYear</th>\n",
       "      <th>WebframeWorkedWith</th>\n",
       "      <th>WelcomeChange</th>\n",
       "      <th>WorkWeekHrs</th>\n",
       "      <th>YearsCode</th>\n",
       "      <th>YearsCodePro</th>\n",
       "    </tr>\n",
       "  </thead>\n",
       "  <tbody>\n",
       "    <tr>\n",
       "      <th>0</th>\n",
       "      <td>1</td>\n",
       "      <td>I am a developer by profession</td>\n",
       "      <td>Yes</td>\n",
       "      <td>NaN</td>\n",
       "      <td>13</td>\n",
       "      <td>Monthly</td>\n",
       "      <td>NaN</td>\n",
       "      <td>NaN</td>\n",
       "      <td>Germany</td>\n",
       "      <td>European Euro</td>\n",
       "      <td>...</td>\n",
       "      <td>Neither easy nor difficult</td>\n",
       "      <td>Appropriate in length</td>\n",
       "      <td>No</td>\n",
       "      <td>Computer science, computer engineering, or sof...</td>\n",
       "      <td>ASP.NET Core</td>\n",
       "      <td>ASP.NET;ASP.NET Core</td>\n",
       "      <td>Just as welcome now as I felt last year</td>\n",
       "      <td>50.0</td>\n",
       "      <td>36</td>\n",
       "      <td>27</td>\n",
       "    </tr>\n",
       "    <tr>\n",
       "      <th>1</th>\n",
       "      <td>2</td>\n",
       "      <td>I am a developer by profession</td>\n",
       "      <td>No</td>\n",
       "      <td>NaN</td>\n",
       "      <td>19</td>\n",
       "      <td>NaN</td>\n",
       "      <td>NaN</td>\n",
       "      <td>NaN</td>\n",
       "      <td>United Kingdom</td>\n",
       "      <td>Pound sterling</td>\n",
       "      <td>...</td>\n",
       "      <td>NaN</td>\n",
       "      <td>NaN</td>\n",
       "      <td>NaN</td>\n",
       "      <td>Computer science, computer engineering, or sof...</td>\n",
       "      <td>NaN</td>\n",
       "      <td>NaN</td>\n",
       "      <td>Somewhat more welcome now than last year</td>\n",
       "      <td>NaN</td>\n",
       "      <td>7</td>\n",
       "      <td>4</td>\n",
       "    </tr>\n",
       "    <tr>\n",
       "      <th>2</th>\n",
       "      <td>3</td>\n",
       "      <td>I code primarily as a hobby</td>\n",
       "      <td>Yes</td>\n",
       "      <td>NaN</td>\n",
       "      <td>15</td>\n",
       "      <td>NaN</td>\n",
       "      <td>NaN</td>\n",
       "      <td>NaN</td>\n",
       "      <td>Russian Federation</td>\n",
       "      <td>NaN</td>\n",
       "      <td>...</td>\n",
       "      <td>Neither easy nor difficult</td>\n",
       "      <td>Appropriate in length</td>\n",
       "      <td>NaN</td>\n",
       "      <td>NaN</td>\n",
       "      <td>NaN</td>\n",
       "      <td>NaN</td>\n",
       "      <td>Somewhat more welcome now than last year</td>\n",
       "      <td>NaN</td>\n",
       "      <td>4</td>\n",
       "      <td>NaN</td>\n",
       "    </tr>\n",
       "    <tr>\n",
       "      <th>3</th>\n",
       "      <td>4</td>\n",
       "      <td>I am a developer by profession</td>\n",
       "      <td>Yes</td>\n",
       "      <td>25.0</td>\n",
       "      <td>18</td>\n",
       "      <td>NaN</td>\n",
       "      <td>NaN</td>\n",
       "      <td>NaN</td>\n",
       "      <td>Albania</td>\n",
       "      <td>Albanian lek</td>\n",
       "      <td>...</td>\n",
       "      <td>NaN</td>\n",
       "      <td>NaN</td>\n",
       "      <td>No</td>\n",
       "      <td>Computer science, computer engineering, or sof...</td>\n",
       "      <td>NaN</td>\n",
       "      <td>NaN</td>\n",
       "      <td>Somewhat less welcome now than last year</td>\n",
       "      <td>40.0</td>\n",
       "      <td>7</td>\n",
       "      <td>4</td>\n",
       "    </tr>\n",
       "    <tr>\n",
       "      <th>4</th>\n",
       "      <td>5</td>\n",
       "      <td>I used to be a developer by profession, but no...</td>\n",
       "      <td>Yes</td>\n",
       "      <td>31.0</td>\n",
       "      <td>16</td>\n",
       "      <td>NaN</td>\n",
       "      <td>NaN</td>\n",
       "      <td>NaN</td>\n",
       "      <td>United States</td>\n",
       "      <td>NaN</td>\n",
       "      <td>...</td>\n",
       "      <td>Easy</td>\n",
       "      <td>Too short</td>\n",
       "      <td>No</td>\n",
       "      <td>Computer science, computer engineering, or sof...</td>\n",
       "      <td>Django;Ruby on Rails</td>\n",
       "      <td>Ruby on Rails</td>\n",
       "      <td>Just as welcome now as I felt last year</td>\n",
       "      <td>NaN</td>\n",
       "      <td>15</td>\n",
       "      <td>8</td>\n",
       "    </tr>\n",
       "  </tbody>\n",
       "</table>\n",
       "<p>5 rows × 61 columns</p>\n",
       "</div>"
      ],
      "text/plain": [
       "   Respondent                                         MainBranch Hobbyist  \\\n",
       "0           1                     I am a developer by profession      Yes   \n",
       "1           2                     I am a developer by profession       No   \n",
       "2           3                        I code primarily as a hobby      Yes   \n",
       "3           4                     I am a developer by profession      Yes   \n",
       "4           5  I used to be a developer by profession, but no...      Yes   \n",
       "\n",
       "    Age Age1stCode CompFreq  CompTotal  ConvertedComp             Country  \\\n",
       "0   NaN         13  Monthly        NaN            NaN             Germany   \n",
       "1   NaN         19      NaN        NaN            NaN      United Kingdom   \n",
       "2   NaN         15      NaN        NaN            NaN  Russian Federation   \n",
       "3  25.0         18      NaN        NaN            NaN             Albania   \n",
       "4  31.0         16      NaN        NaN            NaN       United States   \n",
       "\n",
       "     CurrencyDesc  ...                  SurveyEase           SurveyLength  \\\n",
       "0   European Euro  ...  Neither easy nor difficult  Appropriate in length   \n",
       "1  Pound sterling  ...                         NaN                    NaN   \n",
       "2             NaN  ...  Neither easy nor difficult  Appropriate in length   \n",
       "3    Albanian lek  ...                         NaN                    NaN   \n",
       "4             NaN  ...                        Easy              Too short   \n",
       "\n",
       "  Trans                                     UndergradMajor  \\\n",
       "0    No  Computer science, computer engineering, or sof...   \n",
       "1   NaN  Computer science, computer engineering, or sof...   \n",
       "2   NaN                                                NaN   \n",
       "3    No  Computer science, computer engineering, or sof...   \n",
       "4    No  Computer science, computer engineering, or sof...   \n",
       "\n",
       "  WebframeDesireNextYear    WebframeWorkedWith  \\\n",
       "0           ASP.NET Core  ASP.NET;ASP.NET Core   \n",
       "1                    NaN                   NaN   \n",
       "2                    NaN                   NaN   \n",
       "3                    NaN                   NaN   \n",
       "4   Django;Ruby on Rails         Ruby on Rails   \n",
       "\n",
       "                              WelcomeChange WorkWeekHrs YearsCode YearsCodePro  \n",
       "0   Just as welcome now as I felt last year        50.0        36           27  \n",
       "1  Somewhat more welcome now than last year         NaN         7            4  \n",
       "2  Somewhat more welcome now than last year         NaN         4          NaN  \n",
       "3  Somewhat less welcome now than last year        40.0         7            4  \n",
       "4   Just as welcome now as I felt last year         NaN        15            8  \n",
       "\n",
       "[5 rows x 61 columns]"
      ]
     },
     "execution_count": 5,
     "metadata": {},
     "output_type": "execute_result"
    }
   ],
   "source": [
    "df.head()"
   ]
  },
  {
   "cell_type": "markdown",
   "metadata": {},
   "source": [
    "### Statistical Measures"
   ]
  },
  {
   "cell_type": "code",
   "execution_count": 6,
   "metadata": {},
   "outputs": [
    {
     "data": {
      "text/html": [
       "<div>\n",
       "<style scoped>\n",
       "    .dataframe tbody tr th:only-of-type {\n",
       "        vertical-align: middle;\n",
       "    }\n",
       "\n",
       "    .dataframe tbody tr th {\n",
       "        vertical-align: top;\n",
       "    }\n",
       "\n",
       "    .dataframe thead th {\n",
       "        text-align: right;\n",
       "    }\n",
       "</style>\n",
       "<table border=\"1\" class=\"dataframe\">\n",
       "  <thead>\n",
       "    <tr style=\"text-align: right;\">\n",
       "      <th></th>\n",
       "      <th>Respondent</th>\n",
       "      <th>MainBranch</th>\n",
       "      <th>Hobbyist</th>\n",
       "      <th>Age</th>\n",
       "      <th>Age1stCode</th>\n",
       "      <th>CompFreq</th>\n",
       "      <th>CompTotal</th>\n",
       "      <th>ConvertedComp</th>\n",
       "      <th>Country</th>\n",
       "      <th>CurrencyDesc</th>\n",
       "      <th>...</th>\n",
       "      <th>SurveyEase</th>\n",
       "      <th>SurveyLength</th>\n",
       "      <th>Trans</th>\n",
       "      <th>UndergradMajor</th>\n",
       "      <th>WebframeDesireNextYear</th>\n",
       "      <th>WebframeWorkedWith</th>\n",
       "      <th>WelcomeChange</th>\n",
       "      <th>WorkWeekHrs</th>\n",
       "      <th>YearsCode</th>\n",
       "      <th>YearsCodePro</th>\n",
       "    </tr>\n",
       "  </thead>\n",
       "  <tbody>\n",
       "    <tr>\n",
       "      <th>count</th>\n",
       "      <td>64461.000000</td>\n",
       "      <td>64162</td>\n",
       "      <td>64416</td>\n",
       "      <td>45446.000000</td>\n",
       "      <td>57900</td>\n",
       "      <td>40069</td>\n",
       "      <td>3.482600e+04</td>\n",
       "      <td>3.475600e+04</td>\n",
       "      <td>64072</td>\n",
       "      <td>45472</td>\n",
       "      <td>...</td>\n",
       "      <td>51802</td>\n",
       "      <td>51701</td>\n",
       "      <td>49345</td>\n",
       "      <td>50995</td>\n",
       "      <td>40024</td>\n",
       "      <td>42279</td>\n",
       "      <td>52683</td>\n",
       "      <td>41151.000000</td>\n",
       "      <td>57684</td>\n",
       "      <td>46349</td>\n",
       "    </tr>\n",
       "    <tr>\n",
       "      <th>unique</th>\n",
       "      <td>NaN</td>\n",
       "      <td>5</td>\n",
       "      <td>2</td>\n",
       "      <td>NaN</td>\n",
       "      <td>63</td>\n",
       "      <td>3</td>\n",
       "      <td>NaN</td>\n",
       "      <td>NaN</td>\n",
       "      <td>183</td>\n",
       "      <td>142</td>\n",
       "      <td>...</td>\n",
       "      <td>3</td>\n",
       "      <td>3</td>\n",
       "      <td>2</td>\n",
       "      <td>12</td>\n",
       "      <td>3986</td>\n",
       "      <td>3789</td>\n",
       "      <td>6</td>\n",
       "      <td>NaN</td>\n",
       "      <td>52</td>\n",
       "      <td>52</td>\n",
       "    </tr>\n",
       "    <tr>\n",
       "      <th>top</th>\n",
       "      <td>NaN</td>\n",
       "      <td>I am a developer by profession</td>\n",
       "      <td>Yes</td>\n",
       "      <td>NaN</td>\n",
       "      <td>15</td>\n",
       "      <td>Yearly</td>\n",
       "      <td>NaN</td>\n",
       "      <td>NaN</td>\n",
       "      <td>United States</td>\n",
       "      <td>United States dollar</td>\n",
       "      <td>...</td>\n",
       "      <td>Easy</td>\n",
       "      <td>Appropriate in length</td>\n",
       "      <td>No</td>\n",
       "      <td>Computer science, computer engineering, or sof...</td>\n",
       "      <td>React.js</td>\n",
       "      <td>jQuery</td>\n",
       "      <td>Just as welcome now as I felt last year</td>\n",
       "      <td>NaN</td>\n",
       "      <td>10</td>\n",
       "      <td>3</td>\n",
       "    </tr>\n",
       "    <tr>\n",
       "      <th>freq</th>\n",
       "      <td>NaN</td>\n",
       "      <td>47193</td>\n",
       "      <td>50388</td>\n",
       "      <td>NaN</td>\n",
       "      <td>5618</td>\n",
       "      <td>19818</td>\n",
       "      <td>NaN</td>\n",
       "      <td>NaN</td>\n",
       "      <td>12469</td>\n",
       "      <td>11050</td>\n",
       "      <td>...</td>\n",
       "      <td>34626</td>\n",
       "      <td>38769</td>\n",
       "      <td>48871</td>\n",
       "      <td>31582</td>\n",
       "      <td>2480</td>\n",
       "      <td>2079</td>\n",
       "      <td>37201</td>\n",
       "      <td>NaN</td>\n",
       "      <td>4510</td>\n",
       "      <td>4815</td>\n",
       "    </tr>\n",
       "    <tr>\n",
       "      <th>mean</th>\n",
       "      <td>32554.079738</td>\n",
       "      <td>NaN</td>\n",
       "      <td>NaN</td>\n",
       "      <td>30.834111</td>\n",
       "      <td>NaN</td>\n",
       "      <td>NaN</td>\n",
       "      <td>3.190464e+242</td>\n",
       "      <td>1.037561e+05</td>\n",
       "      <td>NaN</td>\n",
       "      <td>NaN</td>\n",
       "      <td>...</td>\n",
       "      <td>NaN</td>\n",
       "      <td>NaN</td>\n",
       "      <td>NaN</td>\n",
       "      <td>NaN</td>\n",
       "      <td>NaN</td>\n",
       "      <td>NaN</td>\n",
       "      <td>NaN</td>\n",
       "      <td>40.782174</td>\n",
       "      <td>NaN</td>\n",
       "      <td>NaN</td>\n",
       "    </tr>\n",
       "    <tr>\n",
       "      <th>std</th>\n",
       "      <td>18967.442360</td>\n",
       "      <td>NaN</td>\n",
       "      <td>NaN</td>\n",
       "      <td>9.585392</td>\n",
       "      <td>NaN</td>\n",
       "      <td>NaN</td>\n",
       "      <td>inf</td>\n",
       "      <td>2.268853e+05</td>\n",
       "      <td>NaN</td>\n",
       "      <td>NaN</td>\n",
       "      <td>...</td>\n",
       "      <td>NaN</td>\n",
       "      <td>NaN</td>\n",
       "      <td>NaN</td>\n",
       "      <td>NaN</td>\n",
       "      <td>NaN</td>\n",
       "      <td>NaN</td>\n",
       "      <td>NaN</td>\n",
       "      <td>17.816383</td>\n",
       "      <td>NaN</td>\n",
       "      <td>NaN</td>\n",
       "    </tr>\n",
       "    <tr>\n",
       "      <th>min</th>\n",
       "      <td>1.000000</td>\n",
       "      <td>NaN</td>\n",
       "      <td>NaN</td>\n",
       "      <td>1.000000</td>\n",
       "      <td>NaN</td>\n",
       "      <td>NaN</td>\n",
       "      <td>0.000000e+00</td>\n",
       "      <td>0.000000e+00</td>\n",
       "      <td>NaN</td>\n",
       "      <td>NaN</td>\n",
       "      <td>...</td>\n",
       "      <td>NaN</td>\n",
       "      <td>NaN</td>\n",
       "      <td>NaN</td>\n",
       "      <td>NaN</td>\n",
       "      <td>NaN</td>\n",
       "      <td>NaN</td>\n",
       "      <td>NaN</td>\n",
       "      <td>1.000000</td>\n",
       "      <td>NaN</td>\n",
       "      <td>NaN</td>\n",
       "    </tr>\n",
       "    <tr>\n",
       "      <th>25%</th>\n",
       "      <td>16116.000000</td>\n",
       "      <td>NaN</td>\n",
       "      <td>NaN</td>\n",
       "      <td>24.000000</td>\n",
       "      <td>NaN</td>\n",
       "      <td>NaN</td>\n",
       "      <td>2.000000e+04</td>\n",
       "      <td>2.464800e+04</td>\n",
       "      <td>NaN</td>\n",
       "      <td>NaN</td>\n",
       "      <td>...</td>\n",
       "      <td>NaN</td>\n",
       "      <td>NaN</td>\n",
       "      <td>NaN</td>\n",
       "      <td>NaN</td>\n",
       "      <td>NaN</td>\n",
       "      <td>NaN</td>\n",
       "      <td>NaN</td>\n",
       "      <td>40.000000</td>\n",
       "      <td>NaN</td>\n",
       "      <td>NaN</td>\n",
       "    </tr>\n",
       "    <tr>\n",
       "      <th>50%</th>\n",
       "      <td>32231.000000</td>\n",
       "      <td>NaN</td>\n",
       "      <td>NaN</td>\n",
       "      <td>29.000000</td>\n",
       "      <td>NaN</td>\n",
       "      <td>NaN</td>\n",
       "      <td>6.300000e+04</td>\n",
       "      <td>5.404900e+04</td>\n",
       "      <td>NaN</td>\n",
       "      <td>NaN</td>\n",
       "      <td>...</td>\n",
       "      <td>NaN</td>\n",
       "      <td>NaN</td>\n",
       "      <td>NaN</td>\n",
       "      <td>NaN</td>\n",
       "      <td>NaN</td>\n",
       "      <td>NaN</td>\n",
       "      <td>NaN</td>\n",
       "      <td>40.000000</td>\n",
       "      <td>NaN</td>\n",
       "      <td>NaN</td>\n",
       "    </tr>\n",
       "    <tr>\n",
       "      <th>75%</th>\n",
       "      <td>49142.000000</td>\n",
       "      <td>NaN</td>\n",
       "      <td>NaN</td>\n",
       "      <td>35.000000</td>\n",
       "      <td>NaN</td>\n",
       "      <td>NaN</td>\n",
       "      <td>1.250000e+05</td>\n",
       "      <td>9.500000e+04</td>\n",
       "      <td>NaN</td>\n",
       "      <td>NaN</td>\n",
       "      <td>...</td>\n",
       "      <td>NaN</td>\n",
       "      <td>NaN</td>\n",
       "      <td>NaN</td>\n",
       "      <td>NaN</td>\n",
       "      <td>NaN</td>\n",
       "      <td>NaN</td>\n",
       "      <td>NaN</td>\n",
       "      <td>44.000000</td>\n",
       "      <td>NaN</td>\n",
       "      <td>NaN</td>\n",
       "    </tr>\n",
       "    <tr>\n",
       "      <th>max</th>\n",
       "      <td>65639.000000</td>\n",
       "      <td>NaN</td>\n",
       "      <td>NaN</td>\n",
       "      <td>279.000000</td>\n",
       "      <td>NaN</td>\n",
       "      <td>NaN</td>\n",
       "      <td>1.111111e+247</td>\n",
       "      <td>2.000000e+06</td>\n",
       "      <td>NaN</td>\n",
       "      <td>NaN</td>\n",
       "      <td>...</td>\n",
       "      <td>NaN</td>\n",
       "      <td>NaN</td>\n",
       "      <td>NaN</td>\n",
       "      <td>NaN</td>\n",
       "      <td>NaN</td>\n",
       "      <td>NaN</td>\n",
       "      <td>NaN</td>\n",
       "      <td>475.000000</td>\n",
       "      <td>NaN</td>\n",
       "      <td>NaN</td>\n",
       "    </tr>\n",
       "  </tbody>\n",
       "</table>\n",
       "<p>11 rows × 61 columns</p>\n",
       "</div>"
      ],
      "text/plain": [
       "          Respondent                      MainBranch Hobbyist           Age  \\\n",
       "count   64461.000000                           64162    64416  45446.000000   \n",
       "unique           NaN                               5        2           NaN   \n",
       "top              NaN  I am a developer by profession      Yes           NaN   \n",
       "freq             NaN                           47193    50388           NaN   \n",
       "mean    32554.079738                             NaN      NaN     30.834111   \n",
       "std     18967.442360                             NaN      NaN      9.585392   \n",
       "min         1.000000                             NaN      NaN      1.000000   \n",
       "25%     16116.000000                             NaN      NaN     24.000000   \n",
       "50%     32231.000000                             NaN      NaN     29.000000   \n",
       "75%     49142.000000                             NaN      NaN     35.000000   \n",
       "max     65639.000000                             NaN      NaN    279.000000   \n",
       "\n",
       "       Age1stCode CompFreq      CompTotal  ConvertedComp        Country  \\\n",
       "count       57900    40069   3.482600e+04   3.475600e+04          64072   \n",
       "unique         63        3            NaN            NaN            183   \n",
       "top            15   Yearly            NaN            NaN  United States   \n",
       "freq         5618    19818            NaN            NaN          12469   \n",
       "mean          NaN      NaN  3.190464e+242   1.037561e+05            NaN   \n",
       "std           NaN      NaN            inf   2.268853e+05            NaN   \n",
       "min           NaN      NaN   0.000000e+00   0.000000e+00            NaN   \n",
       "25%           NaN      NaN   2.000000e+04   2.464800e+04            NaN   \n",
       "50%           NaN      NaN   6.300000e+04   5.404900e+04            NaN   \n",
       "75%           NaN      NaN   1.250000e+05   9.500000e+04            NaN   \n",
       "max           NaN      NaN  1.111111e+247   2.000000e+06            NaN   \n",
       "\n",
       "                CurrencyDesc  ... SurveyEase           SurveyLength  Trans  \\\n",
       "count                  45472  ...      51802                  51701  49345   \n",
       "unique                   142  ...          3                      3      2   \n",
       "top     United States dollar  ...       Easy  Appropriate in length     No   \n",
       "freq                   11050  ...      34626                  38769  48871   \n",
       "mean                     NaN  ...        NaN                    NaN    NaN   \n",
       "std                      NaN  ...        NaN                    NaN    NaN   \n",
       "min                      NaN  ...        NaN                    NaN    NaN   \n",
       "25%                      NaN  ...        NaN                    NaN    NaN   \n",
       "50%                      NaN  ...        NaN                    NaN    NaN   \n",
       "75%                      NaN  ...        NaN                    NaN    NaN   \n",
       "max                      NaN  ...        NaN                    NaN    NaN   \n",
       "\n",
       "                                           UndergradMajor  \\\n",
       "count                                               50995   \n",
       "unique                                                 12   \n",
       "top     Computer science, computer engineering, or sof...   \n",
       "freq                                                31582   \n",
       "mean                                                  NaN   \n",
       "std                                                   NaN   \n",
       "min                                                   NaN   \n",
       "25%                                                   NaN   \n",
       "50%                                                   NaN   \n",
       "75%                                                   NaN   \n",
       "max                                                   NaN   \n",
       "\n",
       "       WebframeDesireNextYear WebframeWorkedWith  \\\n",
       "count                   40024              42279   \n",
       "unique                   3986               3789   \n",
       "top                  React.js             jQuery   \n",
       "freq                     2480               2079   \n",
       "mean                      NaN                NaN   \n",
       "std                       NaN                NaN   \n",
       "min                       NaN                NaN   \n",
       "25%                       NaN                NaN   \n",
       "50%                       NaN                NaN   \n",
       "75%                       NaN                NaN   \n",
       "max                       NaN                NaN   \n",
       "\n",
       "                                  WelcomeChange   WorkWeekHrs YearsCode  \\\n",
       "count                                     52683  41151.000000     57684   \n",
       "unique                                        6           NaN        52   \n",
       "top     Just as welcome now as I felt last year           NaN        10   \n",
       "freq                                      37201           NaN      4510   \n",
       "mean                                        NaN     40.782174       NaN   \n",
       "std                                         NaN     17.816383       NaN   \n",
       "min                                         NaN      1.000000       NaN   \n",
       "25%                                         NaN     40.000000       NaN   \n",
       "50%                                         NaN     40.000000       NaN   \n",
       "75%                                         NaN     44.000000       NaN   \n",
       "max                                         NaN    475.000000       NaN   \n",
       "\n",
       "       YearsCodePro  \n",
       "count         46349  \n",
       "unique           52  \n",
       "top               3  \n",
       "freq           4815  \n",
       "mean            NaN  \n",
       "std             NaN  \n",
       "min             NaN  \n",
       "25%             NaN  \n",
       "50%             NaN  \n",
       "75%             NaN  \n",
       "max             NaN  \n",
       "\n",
       "[11 rows x 61 columns]"
      ]
     },
     "execution_count": 6,
     "metadata": {},
     "output_type": "execute_result"
    }
   ],
   "source": [
    "df.describe(include = 'all')"
   ]
  },
  {
   "cell_type": "markdown",
   "metadata": {},
   "source": [
    "# Prepare Data"
   ]
  },
  {
   "cell_type": "markdown",
   "metadata": {},
   "source": [
    "Where it its filled, the data is already clean enough for our purpose. That's why we only remove NaN values and define some variables we'll use in the analysis."
   ]
  },
  {
   "cell_type": "code",
   "execution_count": 7,
   "metadata": {},
   "outputs": [],
   "source": [
    "dev_ops_importance_total = df.NEWDevOpsImpt.dropna()"
   ]
  },
  {
   "cell_type": "code",
   "execution_count": 8,
   "metadata": {},
   "outputs": [],
   "source": [
    "devs_that_have_devops = df.loc[df.NEWDevOps == 'Yes']"
   ]
  },
  {
   "cell_type": "code",
   "execution_count": 9,
   "metadata": {},
   "outputs": [],
   "source": [
    "devs_that_dont_have_devops = df.loc[df.NEWDevOps == 'No']"
   ]
  },
  {
   "cell_type": "code",
   "execution_count": 10,
   "metadata": {},
   "outputs": [],
   "source": [
    "devs_that_have_devops_importance= devs_that_have_devops.NEWDevOpsImpt.dropna()"
   ]
  },
  {
   "cell_type": "code",
   "execution_count": 11,
   "metadata": {},
   "outputs": [],
   "source": [
    "devs_that_dont_have_devops_importance = devs_that_dont_have_devops.NEWDevOpsImpt.dropna()"
   ]
  },
  {
   "cell_type": "code",
   "execution_count": 12,
   "metadata": {},
   "outputs": [],
   "source": [
    "company_size = df.OrgSize.dropna()"
   ]
  },
  {
   "cell_type": "code",
   "execution_count": 13,
   "metadata": {},
   "outputs": [],
   "source": [
    "job_satisfaction = df.JobSat.dropna()"
   ]
  },
  {
   "cell_type": "code",
   "execution_count": 14,
   "metadata": {},
   "outputs": [],
   "source": [
    "job_satisfaction_with_devops = df.loc[df.NEWDevOps == 'Yes'].JobSat.dropna()"
   ]
  },
  {
   "cell_type": "code",
   "execution_count": 15,
   "metadata": {},
   "outputs": [],
   "source": [
    "job_satisfaction_without_devops = df.loc[df.NEWDevOps == 'No'].JobSat.dropna()"
   ]
  },
  {
   "cell_type": "code",
   "execution_count": 16,
   "metadata": {},
   "outputs": [],
   "source": [
    "org_size_and_devops_importance = df[['OrgSize', 'NEWDevOpsImpt']].dropna()"
   ]
  },
  {
   "cell_type": "markdown",
   "metadata": {},
   "source": [
    "# Evaluate Results"
   ]
  },
  {
   "cell_type": "markdown",
   "metadata": {},
   "source": [
    "## Do people only recognize the value of DevOps once they have it?"
   ]
  },
  {
   "cell_type": "markdown",
   "metadata": {},
   "source": [
    "### Analysis and Visualization"
   ]
  },
  {
   "cell_type": "code",
   "execution_count": 17,
   "metadata": {},
   "outputs": [
    {
     "data": {
      "image/png": "[encoded data removed]",
      "text/plain": [
       "<Figure size 432x288 with 1 Axes>"
      ]
     },
     "metadata": {
      "needs_background": "light"
     },
     "output_type": "display_data"
    }
   ],
   "source": [
    "\n",
    "dev_ops_importance_total_n = dev_ops_importance_total.count()\n",
    "dev_ops_importance_total_sum = dev_ops_importance_total.value_counts() \n",
    "dev_ops_importance_total_percentages = (dev_ops_importance_total_sum / dev_ops_importance_total_n) * 100\n",
    "dev_ops_importance_total_percentages.plot(kind='bar');\n"
   ]
  },
  {
   "cell_type": "markdown",
   "metadata": {},
   "source": [
    "->  48% of developers think it is extremly important. Almost 80% think it is at least somewhat important.\n",
    "But is this due to a general understanding of the importance of DevOps? Or does the awareness for DevOps only arise once developers have it in their company?\n",
    "\n",
    "We compare the these percentages for devs that have DevOps and for those that don't to find out. "
   ]
  },
  {
   "cell_type": "code",
   "execution_count": 18,
   "metadata": {},
   "outputs": [
    {
     "data": {
      "text/plain": [
       "Extremely important     62.876705\n",
       "Somewhat important      27.753518\n",
       "Neutral                  7.860262\n",
       "Not very important       1.196830\n",
       "Not at all important     0.312685\n",
       "Name: NEWDevOpsImpt, dtype: float64"
      ]
     },
     "execution_count": 18,
     "metadata": {},
     "output_type": "execute_result"
    },
    {
     "data": {
      "image/png": "[encoded data removed]",
      "text/plain": [
       "<Figure size 432x288 with 1 Axes>"
      ]
     },
     "metadata": {
      "needs_background": "light"
     },
     "output_type": "display_data"
    }
   ],
   "source": [
    "devs_that_have_devops_importance_sum = devs_that_have_devops_importance.value_counts()\n",
    "devs_that_have_devops_importance_sum_n = devs_that_have_devops_importance.count()\n",
    "devs_that_have_devops_importance_percentage = (devs_that_have_devops_importance_sum  / devs_that_have_devops_importance_sum_n) * 100 \n",
    "devs_that_have_devops_importance_percentage.plot(kind='bar');\n",
    "devs_that_have_devops_importance_percentage"
   ]
  },
  {
   "cell_type": "code",
   "execution_count": 19,
   "metadata": {},
   "outputs": [
    {
     "data": {
      "text/html": [
       "<div>\n",
       "<style scoped>\n",
       "    .dataframe tbody tr th:only-of-type {\n",
       "        vertical-align: middle;\n",
       "    }\n",
       "\n",
       "    .dataframe tbody tr th {\n",
       "        vertical-align: top;\n",
       "    }\n",
       "\n",
       "    .dataframe thead th {\n",
       "        text-align: right;\n",
       "    }\n",
       "</style>\n",
       "<table border=\"1\" class=\"dataframe\">\n",
       "  <thead>\n",
       "    <tr style=\"text-align: right;\">\n",
       "      <th></th>\n",
       "      <th>% (Has DevOps)</th>\n",
       "    </tr>\n",
       "  </thead>\n",
       "  <tbody>\n",
       "    <tr>\n",
       "      <th>Extremely important</th>\n",
       "      <td>62.876705</td>\n",
       "    </tr>\n",
       "    <tr>\n",
       "      <th>Somewhat important</th>\n",
       "      <td>27.753518</td>\n",
       "    </tr>\n",
       "    <tr>\n",
       "      <th>Neutral</th>\n",
       "      <td>7.860262</td>\n",
       "    </tr>\n",
       "    <tr>\n",
       "      <th>Not very important</th>\n",
       "      <td>1.196830</td>\n",
       "    </tr>\n",
       "    <tr>\n",
       "      <th>Not at all important</th>\n",
       "      <td>0.312685</td>\n",
       "    </tr>\n",
       "  </tbody>\n",
       "</table>\n",
       "</div>"
      ],
      "text/plain": [
       "                      % (Has DevOps)\n",
       "Extremely important        62.876705\n",
       "Somewhat important         27.753518\n",
       "Neutral                     7.860262\n",
       "Not very important          1.196830\n",
       "Not at all important        0.312685"
      ]
     },
     "execution_count": 19,
     "metadata": {},
     "output_type": "execute_result"
    }
   ],
   "source": [
    "devs_that_have_devops_frame = devs_that_have_devops_importance_percentage.to_frame()\n",
    "devs_that_have_devops_frame.columns = ['% (Has DevOps)']\n",
    "devs_that_have_devops_frame"
   ]
  },
  {
   "cell_type": "code",
   "execution_count": 20,
   "metadata": {},
   "outputs": [
    {
     "data": {
      "text/plain": [
       "Extremely important     38.976030\n",
       "Somewhat important      34.226223\n",
       "Neutral                 21.567436\n",
       "Not very important       2.800177\n",
       "Not at all important     2.430134\n",
       "Name: NEWDevOpsImpt, dtype: float64"
      ]
     },
     "execution_count": 20,
     "metadata": {},
     "output_type": "execute_result"
    },
    {
     "data": {
      "image/png": "[encoded data removed]",
      "text/plain": [
       "<Figure size 432x288 with 1 Axes>"
      ]
     },
     "metadata": {
      "needs_background": "light"
     },
     "output_type": "display_data"
    }
   ],
   "source": [
    "devs_that_dont_have_devops_importance_sum = devs_that_dont_have_devops_importance.value_counts()\n",
    "devs_that_dont_have_devops_importance_sum_n = devs_that_dont_have_devops_importance.count()\n",
    "devs_that_dont_have_devops_importance_percentage = (devs_that_dont_have_devops_importance_sum  / devs_that_dont_have_devops_importance_sum_n) * 100 \n",
    "devs_that_dont_have_devops_importance_percentage.plot(kind='bar');\n",
    "devs_that_dont_have_devops_importance_percentage"
   ]
  },
  {
   "cell_type": "code",
   "execution_count": 21,
   "metadata": {},
   "outputs": [
    {
     "data": {
      "text/html": [
       "<div>\n",
       "<style scoped>\n",
       "    .dataframe tbody tr th:only-of-type {\n",
       "        vertical-align: middle;\n",
       "    }\n",
       "\n",
       "    .dataframe tbody tr th {\n",
       "        vertical-align: top;\n",
       "    }\n",
       "\n",
       "    .dataframe thead th {\n",
       "        text-align: right;\n",
       "    }\n",
       "</style>\n",
       "<table border=\"1\" class=\"dataframe\">\n",
       "  <thead>\n",
       "    <tr style=\"text-align: right;\">\n",
       "      <th></th>\n",
       "      <th>% (No DevOps)</th>\n",
       "    </tr>\n",
       "  </thead>\n",
       "  <tbody>\n",
       "    <tr>\n",
       "      <th>Extremely important</th>\n",
       "      <td>38.976030</td>\n",
       "    </tr>\n",
       "    <tr>\n",
       "      <th>Somewhat important</th>\n",
       "      <td>34.226223</td>\n",
       "    </tr>\n",
       "    <tr>\n",
       "      <th>Neutral</th>\n",
       "      <td>21.567436</td>\n",
       "    </tr>\n",
       "    <tr>\n",
       "      <th>Not very important</th>\n",
       "      <td>2.800177</td>\n",
       "    </tr>\n",
       "    <tr>\n",
       "      <th>Not at all important</th>\n",
       "      <td>2.430134</td>\n",
       "    </tr>\n",
       "  </tbody>\n",
       "</table>\n",
       "</div>"
      ],
      "text/plain": [
       "                      % (No DevOps)\n",
       "Extremely important       38.976030\n",
       "Somewhat important        34.226223\n",
       "Neutral                   21.567436\n",
       "Not very important         2.800177\n",
       "Not at all important       2.430134"
      ]
     },
     "execution_count": 21,
     "metadata": {},
     "output_type": "execute_result"
    }
   ],
   "source": [
    "devs_that_dont_have_devops_frame = devs_that_dont_have_devops_importance_percentage.to_frame()\n",
    "devs_that_dont_have_devops_frame.columns = ['% (No DevOps)']\n",
    "devs_that_dont_have_devops_frame"
   ]
  },
  {
   "cell_type": "code",
   "execution_count": 22,
   "metadata": {},
   "outputs": [
    {
     "data": {
      "text/html": [
       "<div>\n",
       "<style scoped>\n",
       "    .dataframe tbody tr th:only-of-type {\n",
       "        vertical-align: middle;\n",
       "    }\n",
       "\n",
       "    .dataframe tbody tr th {\n",
       "        vertical-align: top;\n",
       "    }\n",
       "\n",
       "    .dataframe thead th {\n",
       "        text-align: right;\n",
       "    }\n",
       "</style>\n",
       "<table border=\"1\" class=\"dataframe\">\n",
       "  <thead>\n",
       "    <tr style=\"text-align: right;\">\n",
       "      <th></th>\n",
       "      <th>% (No DevOps)</th>\n",
       "      <th>% (Has DevOps)</th>\n",
       "      <th>Importance</th>\n",
       "    </tr>\n",
       "  </thead>\n",
       "  <tbody>\n",
       "    <tr>\n",
       "      <th>Extremely important</th>\n",
       "      <td>38.976030</td>\n",
       "      <td>62.876705</td>\n",
       "      <td>Extremely important</td>\n",
       "    </tr>\n",
       "    <tr>\n",
       "      <th>Somewhat important</th>\n",
       "      <td>34.226223</td>\n",
       "      <td>27.753518</td>\n",
       "      <td>Somewhat important</td>\n",
       "    </tr>\n",
       "    <tr>\n",
       "      <th>Neutral</th>\n",
       "      <td>21.567436</td>\n",
       "      <td>7.860262</td>\n",
       "      <td>Neutral</td>\n",
       "    </tr>\n",
       "    <tr>\n",
       "      <th>Not very important</th>\n",
       "      <td>2.800177</td>\n",
       "      <td>1.196830</td>\n",
       "      <td>Not very important</td>\n",
       "    </tr>\n",
       "    <tr>\n",
       "      <th>Not at all important</th>\n",
       "      <td>2.430134</td>\n",
       "      <td>0.312685</td>\n",
       "      <td>Not at all important</td>\n",
       "    </tr>\n",
       "  </tbody>\n",
       "</table>\n",
       "</div>"
      ],
      "text/plain": [
       "                      % (No DevOps)  % (Has DevOps)            Importance\n",
       "Extremely important       38.976030       62.876705   Extremely important\n",
       "Somewhat important        34.226223       27.753518    Somewhat important\n",
       "Neutral                   21.567436        7.860262               Neutral\n",
       "Not very important         2.800177        1.196830    Not very important\n",
       "Not at all important       2.430134        0.312685  Not at all important"
      ]
     },
     "execution_count": 22,
     "metadata": {},
     "output_type": "execute_result"
    }
   ],
   "source": [
    "comparison_frame = devs_that_dont_have_devops_frame.join(devs_that_have_devops_frame)\n",
    "comparison_frame['Importance'] = comparison_frame.index\n",
    "comparison_frame"
   ]
  },
  {
   "cell_type": "markdown",
   "metadata": {},
   "source": [
    "### Explanation"
   ]
  },
  {
   "cell_type": "markdown",
   "metadata": {},
   "source": [
    "We see that developers learn to appreciate DevOps processes if their company provides them. The amount of respondents that answered 'Extremely important' rises significantly for companies with DevOps personnel."
   ]
  },
  {
   "cell_type": "markdown",
   "metadata": {},
   "source": [
    "## Does having DevOps increase developer satisfaction?"
   ]
  },
  {
   "cell_type": "markdown",
   "metadata": {},
   "source": [
    "### Analysis and Visualization"
   ]
  },
  {
   "cell_type": "code",
   "execution_count": 23,
   "metadata": {},
   "outputs": [
    {
     "data": {
      "image/png": "[encoded data removed]",
      "text/plain": [
       "<Figure size 432x288 with 1 Axes>"
      ]
     },
     "metadata": {
      "needs_background": "light"
     },
     "output_type": "display_data"
    }
   ],
   "source": [
    "def prepare_job_sat(df_row):\n",
    "    \"\"\"\n",
    "    Calculate the percentage of developers for each answer in the survey\n",
    "    \"\"\"\n",
    "    job_satisfaction_total = df_row.value_counts()\n",
    "    job_satisfaction_n = df_row.count()\n",
    "    job_satisfaction_percent = ((job_satisfaction_total / job_satisfaction_n) * 100).to_frame().reindex(['Very satisfied', 'Slightly satisfied', 'Neither satisfied nor dissatisfied', 'Slightly dissatisfied', 'Very dissatisfied'])\n",
    "    return job_satisfaction_percent\n",
    "\n",
    " \n",
    "job_satisfaction_percent = prepare_job_sat(job_satisfaction)\n",
    "job_satisfaction_percent.plot(kind='bar', legend=False);"
   ]
  },
  {
   "cell_type": "code",
   "execution_count": 24,
   "metadata": {},
   "outputs": [
    {
     "data": {
      "image/png": "[encoded data removed]",
      "text/plain": [
       "<Figure size 432x288 with 1 Axes>"
      ]
     },
     "metadata": {
      "needs_background": "light"
     },
     "output_type": "display_data"
    }
   ],
   "source": [
    "job_satisfaction_with_devops_percent = prepare_job_sat(job_satisfaction_with_devops)\n",
    "job_satisfaction_with_devops_percent.plot(kind='bar', legend=False);"
   ]
  },
  {
   "cell_type": "code",
   "execution_count": 25,
   "metadata": {},
   "outputs": [
    {
     "data": {
      "image/png": "[encoded data removed]",
      "text/plain": [
       "<Figure size 432x288 with 1 Axes>"
      ]
     },
     "metadata": {
      "needs_background": "light"
     },
     "output_type": "display_data"
    }
   ],
   "source": [
    "job_satisfaction_without_devops_percent = prepare_job_sat(job_satisfaction_without_devops)\n",
    "job_satisfaction_without_devops_percent.plot(kind='bar', legend=False);"
   ]
  },
  {
   "cell_type": "code",
   "execution_count": 26,
   "metadata": {},
   "outputs": [
    {
     "data": {
      "text/html": [
       "<div>\n",
       "<style scoped>\n",
       "    .dataframe tbody tr th:only-of-type {\n",
       "        vertical-align: middle;\n",
       "    }\n",
       "\n",
       "    .dataframe tbody tr th {\n",
       "        vertical-align: top;\n",
       "    }\n",
       "\n",
       "    .dataframe thead th {\n",
       "        text-align: right;\n",
       "    }\n",
       "</style>\n",
       "<table border=\"1\" class=\"dataframe\">\n",
       "  <thead>\n",
       "    <tr style=\"text-align: right;\">\n",
       "      <th></th>\n",
       "      <th>% (Has DevOps)</th>\n",
       "      <th>% (No DevOps)</th>\n",
       "      <th>Satisfaction</th>\n",
       "    </tr>\n",
       "  </thead>\n",
       "  <tbody>\n",
       "    <tr>\n",
       "      <th>Very satisfied</th>\n",
       "      <td>35.232994</td>\n",
       "      <td>29.952107</td>\n",
       "      <td>Very satisfied</td>\n",
       "    </tr>\n",
       "    <tr>\n",
       "      <th>Slightly satisfied</th>\n",
       "      <td>30.637386</td>\n",
       "      <td>30.748534</td>\n",
       "      <td>Slightly satisfied</td>\n",
       "    </tr>\n",
       "    <tr>\n",
       "      <th>Neither satisfied nor dissatisfied</th>\n",
       "      <td>11.767542</td>\n",
       "      <td>12.764355</td>\n",
       "      <td>Neither satisfied nor dissatisfied</td>\n",
       "    </tr>\n",
       "    <tr>\n",
       "      <th>Slightly dissatisfied</th>\n",
       "      <td>14.236743</td>\n",
       "      <td>17.989560</td>\n",
       "      <td>Slightly dissatisfied</td>\n",
       "    </tr>\n",
       "    <tr>\n",
       "      <th>Very dissatisfied</th>\n",
       "      <td>8.125335</td>\n",
       "      <td>8.545445</td>\n",
       "      <td>Very dissatisfied</td>\n",
       "    </tr>\n",
       "  </tbody>\n",
       "</table>\n",
       "</div>"
      ],
      "text/plain": [
       "                                    % (Has DevOps)  % (No DevOps)  \\\n",
       "Very satisfied                           35.232994      29.952107   \n",
       "Slightly satisfied                       30.637386      30.748534   \n",
       "Neither satisfied nor dissatisfied       11.767542      12.764355   \n",
       "Slightly dissatisfied                    14.236743      17.989560   \n",
       "Very dissatisfied                         8.125335       8.545445   \n",
       "\n",
       "                                                          Satisfaction  \n",
       "Very satisfied                                          Very satisfied  \n",
       "Slightly satisfied                                  Slightly satisfied  \n",
       "Neither satisfied nor dissatisfied  Neither satisfied nor dissatisfied  \n",
       "Slightly dissatisfied                            Slightly dissatisfied  \n",
       "Very dissatisfied                                    Very dissatisfied  "
      ]
     },
     "execution_count": 26,
     "metadata": {},
     "output_type": "execute_result"
    }
   ],
   "source": [
    "job_satisfaction_with_devops_percent.columns=['% (Has DevOps)']\n",
    "job_satisfaction_without_devops_percent.columns=['% (No DevOps)']\n",
    "comparison_frame = job_satisfaction_with_devops_percent.join(job_satisfaction_without_devops_percent)\n",
    "comparison_frame['Satisfaction'] = comparison_frame.index\n",
    "comparison_frame"
   ]
  },
  {
   "cell_type": "markdown",
   "metadata": {},
   "source": [
    "### Explanation"
   ]
  },
  {
   "cell_type": "markdown",
   "metadata": {},
   "source": [
    "The data does not give a clear statement here. \n",
    "The number of developers that feel 'Very satisfied' increases slightly. But this might also be due to other factors."
   ]
  },
  {
   "cell_type": "markdown",
   "metadata": {},
   "source": [
    "## What is the state of DevOps with respect to company size - is it only applied in big companies?"
   ]
  },
  {
   "cell_type": "markdown",
   "metadata": {},
   "source": [
    "### Analysis"
   ]
  },
  {
   "cell_type": "code",
   "execution_count": 27,
   "metadata": {},
   "outputs": [],
   "source": [
    "data = org_size_and_devops_importance\n",
    "def is_important(s):\n",
    "    \"\"\"\n",
    "    Return whether the answer was either 'Somewhat important' or 'Extremely important'. This is because these two answer are seen as considering DevOps as 'important'.\n",
    "    \"\"\"\n",
    "    if s == 'Somewhat important' or s == 'Extremely important':\n",
    "        return 1\n",
    "    return 0\n",
    "\n",
    "data['ThinksDevOpsIsImportant'] = data.NEWDevOpsImpt.apply(lambda x: is_important(x))\n",
    "thinks_is_important_count = data.groupby('OrgSize').sum().ThinksDevOpsIsImportant\n",
    "total_count = data.groupby('OrgSize').agg('count').ThinksDevOpsIsImportant"
   ]
  },
  {
   "cell_type": "code",
   "execution_count": 28,
   "metadata": {},
   "outputs": [
    {
     "data": {
      "text/html": [
       "<div>\n",
       "<style scoped>\n",
       "    .dataframe tbody tr th:only-of-type {\n",
       "        vertical-align: middle;\n",
       "    }\n",
       "\n",
       "    .dataframe tbody tr th {\n",
       "        vertical-align: top;\n",
       "    }\n",
       "\n",
       "    .dataframe thead th {\n",
       "        text-align: right;\n",
       "    }\n",
       "</style>\n",
       "<table border=\"1\" class=\"dataframe\">\n",
       "  <thead>\n",
       "    <tr style=\"text-align: right;\">\n",
       "      <th></th>\n",
       "      <th>percentages</th>\n",
       "      <th>org_size</th>\n",
       "    </tr>\n",
       "  </thead>\n",
       "  <tbody>\n",
       "    <tr>\n",
       "      <th>0</th>\n",
       "      <td>83.281032</td>\n",
       "      <td>10,000 or more employees</td>\n",
       "    </tr>\n",
       "    <tr>\n",
       "      <th>1</th>\n",
       "      <td>79.905157</td>\n",
       "      <td>5,000 to 9,999 employees</td>\n",
       "    </tr>\n",
       "    <tr>\n",
       "      <th>2</th>\n",
       "      <td>80.660687</td>\n",
       "      <td>1,000 to 4,999 employees</td>\n",
       "    </tr>\n",
       "    <tr>\n",
       "      <th>3</th>\n",
       "      <td>82.833888</td>\n",
       "      <td>500 to 999 employees</td>\n",
       "    </tr>\n",
       "    <tr>\n",
       "      <th>4</th>\n",
       "      <td>82.513383</td>\n",
       "      <td>100 to 499 employees</td>\n",
       "    </tr>\n",
       "    <tr>\n",
       "      <th>5</th>\n",
       "      <td>79.473155</td>\n",
       "      <td>20 to 99 employees</td>\n",
       "    </tr>\n",
       "    <tr>\n",
       "      <th>6</th>\n",
       "      <td>77.197586</td>\n",
       "      <td>10 to 19 employees</td>\n",
       "    </tr>\n",
       "    <tr>\n",
       "      <th>7</th>\n",
       "      <td>70.380640</td>\n",
       "      <td>2 to 9 employees</td>\n",
       "    </tr>\n",
       "    <tr>\n",
       "      <th>8</th>\n",
       "      <td>65.065243</td>\n",
       "      <td>Just me - I am a freelancer, sole proprietor, ...</td>\n",
       "    </tr>\n",
       "  </tbody>\n",
       "</table>\n",
       "</div>"
      ],
      "text/plain": [
       "   percentages                                           org_size\n",
       "0    83.281032                           10,000 or more employees\n",
       "1    79.905157                           5,000 to 9,999 employees\n",
       "2    80.660687                           1,000 to 4,999 employees\n",
       "3    82.833888                               500 to 999 employees\n",
       "4    82.513383                               100 to 499 employees\n",
       "5    79.473155                                 20 to 99 employees\n",
       "6    77.197586                                 10 to 19 employees\n",
       "7    70.380640                                   2 to 9 employees\n",
       "8    65.065243  Just me - I am a freelancer, sole proprietor, ..."
      ]
     },
     "execution_count": 28,
     "metadata": {},
     "output_type": "execute_result"
    }
   ],
   "source": [
    "sorted_org_sizes = list(reversed(['Just me - I am a freelancer, sole proprietor, etc.', '2 to 9 employees',  '10 to 19 employees', '20 to 99 employees', '100 to 499 employees', '500 to 999 employees', '1,000 to 4,999 employees', '5,000 to 9,999 employees', '10,000 or more employees']))\n",
    "percentages = []\n",
    "for org_size in sorted_org_sizes:\n",
    "    percentages.append(100 * thinks_is_important_count[org_size] / total_count[org_size])\n",
    "\n",
    "\n",
    "result = pd.DataFrame()\n",
    "result['percentages'] = percentages\n",
    "result['org_size'] = sorted_org_sizes\n",
    "result"
   ]
  },
  {
   "cell_type": "markdown",
   "metadata": {},
   "source": [
    "### Explanation"
   ]
  },
  {
   "cell_type": "markdown",
   "metadata": {},
   "source": [
    "We see that the majority of developers see DevOps as an important tool in a modern software organization. Yet, respondents from companies with less than ten employees see it as less important. This is understandable, as the effectiveness of DevOps processes unfolds better in larger companies."
   ]
  },
  {
   "cell_type": "code",
   "execution_count": null,
   "metadata": {},
   "outputs": [],
   "source": []
  }
 ],
 "metadata": {
  "kernelspec": {
   "display_name": "Python 3",
   "language": "python",
   "name": "python3"
  },
  "language_info": {
   "codemirror_mode": {
    "name": "ipython",
    "version": 3
   },
   "file_extension": ".py",
   "mimetype": "text/x-python",
   "name": "python",
   "nbconvert_exporter": "python",
   "pygments_lexer": "ipython3",
   "version": "3.8.5"
  }
 },
 "nbformat": 4,
 "nbformat_minor": 4
}
